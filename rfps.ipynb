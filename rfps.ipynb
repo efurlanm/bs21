{
 "cells": [
  {
   "cell_type": "markdown",
   "metadata": {},
   "source": [
    "# RF Python Serial"
   ]
  },
  {
   "cell_type": "code",
   "execution_count": 1,
   "metadata": {},
   "outputs": [
    {
     "name": "stdout",
     "output_type": "stream",
     "text": [
      "3.7.3 | packaged by conda-forge | (default, Jul  1 2019, 21:52:21) \n",
      "[GCC 7.3.0]\n",
      "sys.version_info(major=3, minor=7, micro=3, releaselevel='final', serial=0)\n"
     ]
    }
   ],
   "source": [
    "import sys\n",
    "print (sys.version)\n",
    "print (sys.version_info)"
   ]
  },
  {
   "cell_type": "code",
   "execution_count": 2,
   "metadata": {},
   "outputs": [
    {
     "name": "stdout",
     "output_type": "stream",
     "text": [
      "blas_mkl_info:\n",
      "    libraries = ['mkl_rt', 'pthread']\n",
      "    library_dirs = ['/scratch/app/anaconda3/2018.12/lib']\n",
      "    define_macros = [('SCIPY_MKL_H', None), ('HAVE_CBLAS', None)]\n",
      "    include_dirs = ['/scratch/app/anaconda3/2018.12/include']\n",
      "blas_opt_info:\n",
      "    libraries = ['mkl_rt', 'pthread']\n",
      "    library_dirs = ['/scratch/app/anaconda3/2018.12/lib']\n",
      "    define_macros = [('SCIPY_MKL_H', None), ('HAVE_CBLAS', None)]\n",
      "    include_dirs = ['/scratch/app/anaconda3/2018.12/include']\n",
      "lapack_mkl_info:\n",
      "    libraries = ['mkl_rt', 'pthread']\n",
      "    library_dirs = ['/scratch/app/anaconda3/2018.12/lib']\n",
      "    define_macros = [('SCIPY_MKL_H', None), ('HAVE_CBLAS', None)]\n",
      "    include_dirs = ['/scratch/app/anaconda3/2018.12/include']\n",
      "lapack_opt_info:\n",
      "    libraries = ['mkl_rt', 'pthread']\n",
      "    library_dirs = ['/scratch/app/anaconda3/2018.12/lib']\n",
      "    define_macros = [('SCIPY_MKL_H', None), ('HAVE_CBLAS', None)]\n",
      "    include_dirs = ['/scratch/app/anaconda3/2018.12/include']\n"
     ]
    }
   ],
   "source": [
    "import numpy\n",
    "numpy.show_config()"
   ]
  },
  {
   "cell_type": "markdown",
   "metadata": {},
   "source": [
    "## Main\n",
    "\n",
    "Save the file to disk"
   ]
  },
  {
   "cell_type": "code",
   "execution_count": 71,
   "metadata": {},
   "outputs": [
    {
     "name": "stdout",
     "output_type": "stream",
     "text": [
      "Overwriting rfa.py\n"
     ]
    }
   ],
   "source": [
    "%%writefile rfas.py\n",
    "import pandas as pd\n",
    "import numpy as np\n",
    "import sys\n",
    "from scipy.io import arff\n",
    "from sklearn.impute import SimpleImputer\n",
    "from sklearn.ensemble import RandomForestClassifier\n",
    "from sklearn import metrics\n",
    "from time import time\n",
    "t = time()\n",
    "\n",
    "data = arff.loadarff(sys.argv[1])\n",
    "df = pd.DataFrame(data[0])\n",
    "df = df.replace(b'N', 0)\n",
    "df = df.replace(b'Y', 1)\n",
    "df['class'] = df['class'].str.decode('utf-8').fillna(df['class'])\n",
    "y_train = df['class']\n",
    "X_train = df.drop(columns=['class'])\n",
    "imp = SimpleImputer(missing_values = np.nan, strategy = 'mean')\n",
    "df2 = pd.DataFrame(imp.fit_transform(X_train))\n",
    "df2.columns = X_train.columns\n",
    "df2.index = X_train.index\n",
    "X_train = df2\n",
    "\n",
    "datat = arff.loadarff(sys.argv[2])\n",
    "df = pd.DataFrame(datat[0])\n",
    "df = df.replace(b'N', 0)\n",
    "df = df.replace(b'Y', 1)\n",
    "df['class'] = df['class'].str.decode('utf-8').fillna(df['class'])\n",
    "y_test = df['class']\n",
    "X_test = df.drop(columns = ['class'])\n",
    "imp = SimpleImputer(missing_values = np.nan, strategy = 'mean')\n",
    "df2 = pd.DataFrame(imp.fit_transform(X_test))\n",
    "df2.columns = X_test.columns\n",
    "df2.index = X_test.index\n",
    "X_test = df2\n",
    "\n",
    "clf = RandomForestClassifier(n_estimators = 100)\n",
    "clf.fit(X_train, y_train)\n",
    "y_pred_test  = clf.predict(X_test)\n",
    "y_pred_train = clf.predict(X_train)\n",
    "accu = metrics.accuracy_score(y_train, y_pred_train, normalize = False)\n",
    "trsi = y_train.size\n",
    "perr = ((trsi - accu) / (trsi)) * 100\n",
    "kapp = metrics.cohen_kappa_score(y_train, y_pred_train)\n",
    "print(f'Trainset classification error is {perr:.2f}% ',\n",
    "      f'of {trsi} (kappa: {kapp:.4f})')\n",
    "accu = metrics.accuracy_score(y_test, y_pred_test, normalize = False)\n",
    "trsi = y_test.size\n",
    "perr = ((trsi - accu) / (trsi)) * 100\n",
    "kapp = metrics.cohen_kappa_score(y_test, y_pred_test)\n",
    "print(f' Testset classification error is {perr:.2f}% ',\n",
    "      f'of {trsi} (kappa: {kapp:.4f})')\n",
    "\n",
    "t = time() - t\n",
    "print(f\"T : {t:.4f} s\")"
   ]
  },
  {
   "cell_type": "markdown",
   "metadata": {},
   "source": [
    "## Check"
   ]
  },
  {
   "cell_type": "code",
   "execution_count": null,
   "metadata": {},
   "outputs": [],
   "source": [
    "! time python rfa.py datasets/asteroid-train.arff datasets/asteroid-test.arff"
   ]
  },
  {
   "cell_type": "markdown",
   "metadata": {},
   "source": [
    "## Copy to scratch"
   ]
  },
  {
   "cell_type": "code",
   "execution_count": 3,
   "metadata": {},
   "outputs": [],
   "source": [
    "%%bash\n",
    "dir=/scratch${PWD#\"/prj\"}\n",
    "cp rfas.py $dir"
   ]
  },
  {
   "cell_type": "markdown",
   "metadata": {},
   "source": [
    "## Slurm script"
   ]
  },
  {
   "cell_type": "code",
   "execution_count": 4,
   "metadata": {},
   "outputs": [
    {
     "name": "stdout",
     "output_type": "stream",
     "text": [
      "Overwriting stc_pyt_seq.srm\n"
     ]
    }
   ],
   "source": [
    "%%writefile rfa_pyt_ser.srm\n",
    "#!/bin/bash\n",
    "# 1,0 UA partitions:\n",
    "#   cpu,       96 h,    21-50 nodes, 4/24  tasks\n",
    "#   cpu_dev,   20 min., 1-4   nodes, 1/1   tasks\n",
    "#   cpu_small, 72 h,    1-20  nodes, 16/96 tasks\n",
    "#SBATCH --partition cpu_small  # Select partition\n",
    "#SBATCH --ntasks=1             # Total tasks\n",
    "#SBATCH --job-name rfs         # Job name\n",
    "#SBATCH --time=00:05:00        # Limit execution time\n",
    "#SBATCH --exclusive            # Exclusive acccess to nodes\n",
    "#   NTASKS: 1, 4, 9, 16, 36, 49, 64, 81\n",
    "echo '========================================'\n",
    "echo '- Job ID:' $SLURM_JOB_ID\n",
    "echo '- Tasks per node:' $SLURM_NTASKS_PER_NODE\n",
    "echo '- # of nodes in the job:' $SLURM_JOB_NUM_NODES\n",
    "echo '- # of tasks:' $SLURM_NTASKS\n",
    "echo '- Dir from which sbatch was invoked:' ${SLURM_SUBMIT_DIR##*/}\n",
    "cd $SLURM_SUBMIT_DIR\n",
    "echo -n '- List of nodes allocated to the job: '\n",
    "nodeset -e $SLURM_JOB_NODELIST\n",
    "\n",
    "# Environment\n",
    "dir=/scratch${PWD#\"/prj\"}\n",
    "cd $dir\n",
    "\n",
    "# Executable config\n",
    "EXEC=$dir/\"python rafs.py datasets/asteroid-train.arff datasets/asteroid-test.arff\"\n",
    "\n",
    "# Start\n",
    "echo '$ srun -n' $SLURM_NTASKS $EXEC\n",
    "echo '-- output -----------------------------'\n",
    "srun -n $SLURM_NTASKS $EXEC\n",
    "echo '~~ end ~~~~~~~~~~~~~~~~~~~~~~~~~~~~~~~~'"
   ]
  },
  {
   "cell_type": "markdown",
   "metadata": {},
   "source": [
    "### Run"
   ]
  },
  {
   "cell_type": "code",
   "execution_count": null,
   "metadata": {},
   "outputs": [],
   "source": [
    "! sbatch --partition=cpu_dev rfa_pyt_ser.srm"
   ]
  },
  {
   "cell_type": "code",
   "execution_count": null,
   "metadata": {},
   "outputs": [],
   "source": [
    "! squeue -n rfs -o \"%.18i  %.9P  %.2t %.5M %.5D %.4C\""
   ]
  },
  {
   "cell_type": "code",
   "execution_count": null,
   "metadata": {},
   "outputs": [],
   "source": [
    "! cat /scratch${PWD#\"/prj\"}/slurm-xxxx.out"
   ]
  },
  {
   "cell_type": "code",
   "execution_count": null,
   "metadata": {},
   "outputs": [],
   "source": [
    "! sbatch --partition=cpu_dev rfa_pyt_ser.srm"
   ]
  },
  {
   "cell_type": "code",
   "execution_count": null,
   "metadata": {},
   "outputs": [],
   "source": [
    "! squeue -n rfs -o \"%.18i  %.9P  %.2t %.5M %.5D %.4C\""
   ]
  },
  {
   "cell_type": "code",
   "execution_count": null,
   "metadata": {},
   "outputs": [],
   "source": [
    "! cat /scratch${PWD#\"/prj\"}/slurm-xxxx.out"
   ]
  },
  {
   "cell_type": "code",
   "execution_count": null,
   "metadata": {},
   "outputs": [],
   "source": [
    "! sbatch --partition=cpu_dev rfa_pyt_ser.srm"
   ]
  },
  {
   "cell_type": "code",
   "execution_count": null,
   "metadata": {},
   "outputs": [],
   "source": [
    "! squeue -n rfs -o \"%.18i  %.9P  %.2t %.5M %.5D %.4C\""
   ]
  },
  {
   "cell_type": "code",
   "execution_count": null,
   "metadata": {},
   "outputs": [],
   "source": [
    "! cat /scratch${PWD#\"/prj\"}/slurm-xxxx.out"
   ]
  }
 ],
 "metadata": {
  "kernelspec": {
   "display_name": "Python 3",
   "language": "python",
   "name": "python3"
  },
  "language_info": {
   "codemirror_mode": {
    "name": "ipython",
    "version": 3
   },
   "file_extension": ".py",
   "mimetype": "text/x-python",
   "name": "python",
   "nbconvert_exporter": "python",
   "pygments_lexer": "ipython3",
   "version": "3.8.5"
  }
 },
 "nbformat": 4,
 "nbformat_minor": 4
}
