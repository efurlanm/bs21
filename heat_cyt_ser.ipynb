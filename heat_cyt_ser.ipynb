{
 "cells": [
  {
   "cell_type": "markdown",
   "metadata": {},
   "source": [
    "# Heat Cython Serial\n",
    "\n",
    "Cython Serial Implementation of the Test Problem"
   ]
  },
  {
   "cell_type": "code",
   "execution_count": 2,
   "metadata": {},
   "outputs": [
    {
     "name": "stdout",
     "output_type": "stream",
     "text": [
      "Cython version 0.29.20\n"
     ]
    }
   ],
   "source": [
    "! cython --version"
   ]
  },
  {
   "cell_type": "code",
   "execution_count": 2,
   "metadata": {},
   "outputs": [
    {
     "name": "stdout",
     "output_type": "stream",
     "text": [
      "ifort (IFORT) 19.0.3.199 20190206\n",
      "Copyright (C) 1985-2019 Intel Corporation.  All rights reserved.\n",
      "\n"
     ]
    }
   ],
   "source": [
    "! ifort --version"
   ]
  },
  {
   "cell_type": "code",
   "execution_count": 3,
   "metadata": {},
   "outputs": [
    {
     "name": "stdout",
     "output_type": "stream",
     "text": [
      "icc (ICC) 19.0.3.199 20190206\n",
      "Copyright (C) 1985-2019 Intel Corporation.  All rights reserved.\n",
      "\n"
     ]
    }
   ],
   "source": [
    "! icc --version"
   ]
  },
  {
   "cell_type": "markdown",
   "metadata": {},
   "source": [
    "### Cython module"
   ]
  },
  {
   "cell_type": "code",
   "execution_count": 6,
   "metadata": {},
   "outputs": [
    {
     "name": "stdout",
     "output_type": "stream",
     "text": [
      "Overwriting scs.pyx\n"
     ]
    }
   ],
   "source": [
    "%%writefile scs.pyx\n",
    "#cython: boundscheck=False, wraparound=False, cdivision=True\n",
    "#cython: initializedcheck=False, language_level=3, infer_types=True\n",
    "\n",
    "cpdef st(int n, double energy, int niters):\n",
    "    from time import time\n",
    "    import numpy as np\n",
    "\n",
    "    # definição de variáveis\n",
    "    cdef double      heat      = 0.0\n",
    "    cdef double      t         = 0.0\n",
    "    cdef Py_ssize_t  size      = n + 2\n",
    "    cdef Py_ssize_t  sizeStart = 1\n",
    "    cdef Py_ssize_t  sizeEnd   = n + 1\n",
    "    cdef Py_ssize_t  iters, i, j\n",
    "\n",
    "    t = time()\n",
    "    \n",
    "    # cria e inicializa as matrizes com zeros e memoryview\n",
    "    cdef double[:,::1] mvaold = np.zeros((size, size), np.double)\n",
    "    cdef double[:,::1] mvanew = np.zeros((size, size), np.double)\n",
    "    cdef Py_ssize_t    nsources  = 3      # qde de fontes\n",
    "    cdef    int[:,::1] mvsources = np.empty( (nsources,2), np.intc)\n",
    "\n",
    "    # inicializa 3 fontes de calor\n",
    "    mvsources[0,0] = mvsources[0,1] = n/2\n",
    "    mvsources[1,0] = mvsources[1,1] = n/3\n",
    "    mvsources[2,0] = n*4/5\n",
    "    mvsources[2,1] = n*8/9\n",
    "\n",
    "    niters = (niters + 1) // 2\n",
    "    for iters in range(niters) :\n",
    "        # iteracao impar\n",
    "        for i in range(sizeStart, sizeEnd) :\n",
    "            for j in range(sizeStart, sizeEnd) :\n",
    "                mvanew[i,j]=1/2.0*(mvaold[i,j]+1/4.0*(mvaold[i-1,j]+mvaold[i+1,j]+mvaold[i,j-1]+mvaold[i,j+1]))\n",
    "        for i in range(nsources) :\n",
    "            mvanew[mvsources[i,0], mvsources[i,1]] += energy\n",
    "        # iteracao par\n",
    "        for i in range(sizeStart, sizeEnd) :\n",
    "            for j in range(sizeStart, sizeEnd) :\n",
    "                mvaold[i,j]=1/2.0*(mvanew[i,j]+1/4.0*(mvanew[i-1,j]+mvanew[i+1,j]+mvanew[i,j-1]+mvanew[i,j+1] ) / 8.)\n",
    "        for i in range(nsources) :\n",
    "            mvaold[mvsources[i,0], mvsources[i,1]] += energy\n",
    "    # calcula o total de energia\n",
    "    for i in range(sizeStart, sizeEnd) :\n",
    "        for j in range(sizeStart, sizeEnd) :\n",
    "            heat += mvaold[i,j]\n",
    "    t = time() - t\n",
    "#    print(\"Heat = %0.4f | Tempo = %0.4f\" %(heat, t))\n",
    "    return heat, t"
   ]
  },
  {
   "cell_type": "markdown",
   "metadata": {},
   "source": [
    "### Setup file"
   ]
  },
  {
   "cell_type": "code",
   "execution_count": 7,
   "metadata": {},
   "outputs": [
    {
     "name": "stdout",
     "output_type": "stream",
     "text": [
      "Overwriting setup.py\n"
     ]
    }
   ],
   "source": [
    "%%writefile setup.py\n",
    "from setuptools import setup\n",
    "from Cython.Build import cythonize\n",
    "\n",
    "setup(\n",
    "    ext_modules = cythonize(\"scs.pyx\", force=True)\n",
    ")"
   ]
  },
  {
   "cell_type": "markdown",
   "metadata": {},
   "source": [
    "### Main"
   ]
  },
  {
   "cell_type": "code",
   "execution_count": 9,
   "metadata": {},
   "outputs": [
    {
     "name": "stdout",
     "output_type": "stream",
     "text": [
      "Overwriting st-cy-seq.py\n"
     ]
    }
   ],
   "source": [
    "%%writefile st-cy-seq.py\n",
    "from time import time\n",
    "tp = time()\n",
    "import scs\n",
    "\n",
    "n            = 4800    # nxn grid; 4800,1,500→1500; 100,1,10→30 [4800]\n",
    "energy       = 1.0     # energy to be injected per iteration [1.0]\n",
    "niters       = 500     # number of iterations [500]\n",
    "\n",
    "heat, t = scs.st(n, energy, niters)\n",
    "tp = time() - tp\n",
    "print(\"Heat = %0.4f | Tempo = %0.4f | TempoPyt = %0.4f\" %(heat, t, tp))"
   ]
  },
  {
   "cell_type": "markdown",
   "metadata": {},
   "source": [
    "### Build"
   ]
  },
  {
   "cell_type": "code",
   "execution_count": 11,
   "metadata": {},
   "outputs": [
    {
     "name": "stdout",
     "output_type": "stream",
     "text": [
      "[1/1] Cythonizing scs.pyx\n",
      "running build_ext\n",
      "building 'scs' extension\n",
      "gcc -pthread -B /scratch/app/anaconda3/2018.12/compiler_compat -Wl,--sysroot=/ -Wsign-compare -DNDEBUG -g -fwrapv -O3 -Wall -Wstrict-prototypes -fPIC -I/scratch/app/anaconda3/2018.12/include/python3.7m -c scs.c -o build/temp.linux-x86_64-3.7/scs.o\n",
      "gcc -pthread -shared -B /scratch/app/anaconda3/2018.12/compiler_compat -L/scratch/app/anaconda3/2018.12/lib -Wl,-rpath=/scratch/app/anaconda3/2018.12/lib -Wl,--no-as-needed -Wl,--sysroot=/ build/temp.linux-x86_64-3.7/scs.o -o build/lib.linux-x86_64-3.7/scs.cpython-37m-x86_64-linux-gnu.so\n",
      "copying build/lib.linux-x86_64-3.7/scs.cpython-37m-x86_64-linux-gnu.so -> \n"
     ]
    }
   ],
   "source": [
    "%%bash\n",
    "rm scs.*.so\n",
    "python setup.py build_ext --inplace"
   ]
  },
  {
   "cell_type": "markdown",
   "metadata": {},
   "source": [
    "### Check"
   ]
  },
  {
   "cell_type": "code",
   "execution_count": 12,
   "metadata": {},
   "outputs": [
    {
     "name": "stdout",
     "output_type": "stream",
     "text": [
      "Heat = 1500.0000 | Tempo = 19.2412 | TempoPyt = 19.4514\n"
     ]
    }
   ],
   "source": [
    "%%bash\n",
    "python st-cy-seq.py"
   ]
  },
  {
   "cell_type": "markdown",
   "metadata": {},
   "source": [
    "### Running on an execution node"
   ]
  },
  {
   "cell_type": "markdown",
   "metadata": {},
   "source": [
    "Copy the executable to /scratch :"
   ]
  },
  {
   "cell_type": "code",
   "execution_count": 17,
   "metadata": {},
   "outputs": [],
   "source": [
    "%%bash\n",
    "s='/prj/yyyy/xxxx/stnc/Cython'\n",
    "d='/scratch/yyyy/xxxx/stnc/Cython'\n",
    "rm $d/scs.*.so\n",
    "cp  $s/scs.*.so  $s/st-cy-seq.py  $s/calctempo.sh  $d"
   ]
  },
  {
   "cell_type": "markdown",
   "metadata": {},
   "source": [
    "Checking if it works, before batch execution"
   ]
  },
  {
   "cell_type": "code",
   "execution_count": 18,
   "metadata": {},
   "outputs": [
    {
     "name": "stdout",
     "output_type": "stream",
     "text": [
      "Heat = 1500.0000 | Tempo = 21.1068 | TempoPyt = 21.3335\n"
     ]
    },
    {
     "name": "stderr",
     "output_type": "stream",
     "text": [
      "\n",
      "real\t0m21.393s\n",
      "user\t0m20.228s\n",
      "sys\t0m1.126s\n"
     ]
    }
   ],
   "source": [
    "%%bash\n",
    "a='/scratch/yyyy/xxxx'\n",
    "d='/scratch/yyyy/xxxx/stnc/Cython'\n",
    "cd $d\n",
    "sh calctempo.sh"
   ]
  },
  {
   "cell_type": "markdown",
   "metadata": {},
   "source": [
    "### Slurm script"
   ]
  },
  {
   "cell_type": "code",
   "execution_count": 19,
   "metadata": {},
   "outputs": [
    {
     "name": "stdout",
     "output_type": "stream",
     "text": [
      "Overwriting st-cy-seq.srm\n"
     ]
    }
   ],
   "source": [
    "%%writefile st-cy-seq.srm\n",
    "#!/bin/bash\n",
    "#SBATCH -p cpu_small           #Fila (partition) a ser utilizada\n",
    "#SBATCH --ntasks=1             #Total de tarefas\n",
    "#SBATCH --nodes=1              #Qtd de nós\n",
    "#SBATCH --ntasks-per-node=1    #Qtd de tarefas por nó ($SLURM_NTASKS_PER_NODE)\n",
    "#SBATCH -J stcyseq             #Nome do job, 8 caracteres\n",
    "#SBATCH --exclusive            #Utilização exclusiva dos nós\n",
    "#SBATCH --time=00:02:00        #Tempo max. de execução 2 minutos\n",
    "\n",
    "echo '========================================'\n",
    "echo '- Stencil Cython Sequencial'\n",
    "echo '- Job ID:' $SLURM_JOB_ID\n",
    "echo '- Tarefas por no:' $SLURM_NTASKS_PER_NODE\n",
    "echo '- Qtd. de nos:' $SLURM_JOB_NUM_NODES\n",
    "echo '- Tot. de tarefas:' $SLURM_NTASKS\n",
    "echo '- Nos alocados:' $SLURM_JOB_NODELIST\n",
    "echo '- diretorio onde sbatch foi chamado ($SLURM_SUBMIT_DIR):'\n",
    "echo $SLURM_SUBMIT_DIR\n",
    "cd $SLURM_SUBMIT_DIR\n",
    "\n",
    "#Entra no diretório de trabalho\n",
    "cd /scratch/yyyy/xxxx/stnc/Cython\n",
    "\n",
    "#Executavel\n",
    "EXEC='sh calctempo.sh'\n",
    "\n",
    "#Dispara a execucao\n",
    "echo '-- srun -------------------------------'\n",
    "echo '$ time srun -n ' $SLURM_NTASKS $EXEC\n",
    "srun -n $SLURM_NTASKS $EXEC\n",
    "echo '-- FIM --------------------------------'"
   ]
  },
  {
   "cell_type": "markdown",
   "metadata": {},
   "source": [
    "### Sends to run 3 times"
   ]
  },
  {
   "cell_type": "code",
   "execution_count": 20,
   "metadata": {},
   "outputs": [
    {
     "name": "stdout",
     "output_type": "stream",
     "text": [
      "Submitted batch job 772612\n",
      "Submitted batch job 772613\n",
      "Submitted batch job 772614\n",
      "             JOBID PARTITION     NAME     USER ST       TIME  NODES NODELIST(REASON)\n",
      "            772612 cpu_small  stcyseq xxxx. PD       0:00      1 (Priority)\n",
      "            772613 cpu_small  stcyseq xxxx. PD       0:00      1 (Priority)\n",
      "            772614 cpu_small  stcyseq xxxx. PD       0:00      1 (Priority)\n"
     ]
    }
   ],
   "source": [
    "%%bash\n",
    "sbatch st-cy-seq.srm\n",
    "sbatch st-cy-seq.srm\n",
    "sbatch st-cy-seq.srm\n",
    "squeue -n stcyseq"
   ]
  },
  {
   "cell_type": "markdown",
   "metadata": {},
   "source": [
    "Checks if it is finished"
   ]
  },
  {
   "cell_type": "code",
   "execution_count": 25,
   "metadata": {},
   "outputs": [
    {
     "name": "stdout",
     "output_type": "stream",
     "text": [
      "             JOBID PARTITION     NAME     USER ST       TIME  NODES NODELIST(REASON)\n",
      "            772614 cpu_small  stcyseq xxxx. PD       0:00      1 (Resources)\n",
      "            772613 cpu_small  stcyseq xxxx. PD       0:00      1 (Resources)\n",
      "            772612 cpu_small  stcyseq xxxx. PD       0:00      1 (Resources)\n"
     ]
    }
   ],
   "source": [
    "%%bash\n",
    "squeue -n stcyseq"
   ]
  },
  {
   "cell_type": "markdown",
   "metadata": {},
   "source": [
    "#### Shows the output files"
   ]
  },
  {
   "cell_type": "code",
   "execution_count": 1,
   "metadata": {},
   "outputs": [
    {
     "name": "stdout",
     "output_type": "stream",
     "text": [
      "========================================\n",
      "- Stencil Cython Sequencial\n",
      "- Job ID: 772612\n",
      "- Tarefas por no: 1\n",
      "- Qtd. de nos: 1\n",
      "- Tot. de tarefas: 1\n",
      "- Nos alocados: sdumont1407\n",
      "- diretorio onde sbatch foi chamado ($SLURM_SUBMIT_DIR):\n",
      "/prj/yyyy/xxxx/stnc/Cython\n",
      "-- srun -------------------------------\n",
      "$ time srun -n  1 sh calctempo.sh\n",
      "Heat = 1500.0000 | Tempo = 23.9847 | TempoPyt = 29.4011\n",
      "\n",
      "real\t0m29.715s\n",
      "user\t0m24.100s\n",
      "sys\t0m0.335s\n",
      "-- FIM --------------------------------\n",
      "========================================\n",
      "- Stencil Cython Sequencial\n",
      "- Job ID: 772613\n",
      "- Tarefas por no: 1\n",
      "- Qtd. de nos: 1\n",
      "- Tot. de tarefas: 1\n",
      "- Nos alocados: sdumont1407\n",
      "- diretorio onde sbatch foi chamado ($SLURM_SUBMIT_DIR):\n",
      "/prj/yyyy/xxxx/stnc/Cython\n",
      "-- srun -------------------------------\n",
      "$ time srun -n  1 sh calctempo.sh\n",
      "Heat = 1500.0000 | Tempo = 23.9444 | TempoPyt = 24.6716\n",
      "\n",
      "real\t0m24.811s\n",
      "user\t0m24.077s\n",
      "sys\t0m0.255s\n",
      "-- FIM --------------------------------\n",
      "========================================\n",
      "- Stencil Cython Sequencial\n",
      "- Job ID: 772614\n",
      "- Tarefas por no: 1\n",
      "- Qtd. de nos: 1\n",
      "- Tot. de tarefas: 1\n",
      "- Nos alocados: sdumont1407\n",
      "- diretorio onde sbatch foi chamado ($SLURM_SUBMIT_DIR):\n",
      "/prj/yyyy/xxxx/stnc/Cython\n",
      "-- srun -------------------------------\n",
      "$ time srun -n  1 sh calctempo.sh\n",
      "Heat = 1500.0000 | Tempo = 23.9926 | TempoPyt = 24.7009\n",
      "\n",
      "real\t0m24.830s\n",
      "user\t0m24.041s\n",
      "sys\t0m0.332s\n",
      "-- FIM --------------------------------\n"
     ]
    }
   ],
   "source": [
    "%%bash\n",
    "b='/stnc/Cython'\n",
    "d='/scratch/yyyy/xxxx'$b\n",
    "cat $d/slurm-772612.out\n",
    "cat $d/slurm-772613.out\n",
    "cat $d/slurm-772614.out"
   ]
  }
 ],
 "metadata": {
  "kernelspec": {
   "display_name": "Python 3 (ipykernel)",
   "language": "python",
   "name": "python3"
  },
  "language_info": {
   "codemirror_mode": {
    "name": "ipython",
    "version": 3
   },
   "file_extension": ".py",
   "mimetype": "text/x-python",
   "name": "python",
   "nbconvert_exporter": "python",
   "pygments_lexer": "ipython3",
   "version": "3.8.8"
  }
 },
 "nbformat": 4,
 "nbformat_minor": 4
}
