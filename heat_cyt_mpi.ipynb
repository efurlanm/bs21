{
 "cells": [
  {
   "cell_type": "markdown",
   "metadata": {},
   "source": [
    "# Heat Cython MPI\n",
    "\n",
    "Cython Parallel (MPI) Implementation of the Test Problem"
   ]
  },
  {
   "cell_type": "code",
   "execution_count": 1,
   "metadata": {},
   "outputs": [
    {
     "name": "stdout",
     "output_type": "stream",
     "text": [
      "Cython version 0.29.2\n"
     ]
    }
   ],
   "source": [
    "! cython --version"
   ]
  },
  {
   "cell_type": "code",
   "execution_count": 2,
   "metadata": {},
   "outputs": [
    {
     "name": "stdout",
     "output_type": "stream",
     "text": [
      "gcc (GCC) 4.8.5 20150623 (Red Hat 4.8.5-36)\n",
      "Copyright (C) 2015 Free Software Foundation, Inc.\n",
      "This is free software; see the source for copying conditions.  There is NO\n",
      "warranty; not even for MERCHANTABILITY or FITNESS FOR A PARTICULAR PURPOSE.\n",
      "\n"
     ]
    }
   ],
   "source": [
    "! gcc --version"
   ]
  },
  {
   "cell_type": "code",
   "execution_count": 1,
   "metadata": {},
   "outputs": [],
   "source": [
    "%reload_ext Cython"
   ]
  },
  {
   "cell_type": "markdown",
   "metadata": {},
   "source": [
    "### Time-consuming part of the Cython code of the test problem"
   ]
  },
  {
   "cell_type": "code",
   "execution_count": 7,
   "metadata": {},
   "outputs": [
    {
     "name": "stdout",
     "output_type": "stream",
     "text": [
      "Writing scp2.pyx\n"
     ]
    }
   ],
   "source": [
    "%%writefile scp2.pyx\n",
    "#cython: language_level=3\n",
    "#cython: cdivision=True\n",
    "#cython: initializedcheck=False\n",
    "#cython: infer_types=True\n",
    "#cython: wraparound=False\n",
    "#cython: boundscheck=False\n",
    "\n",
    "import numpy as np\n",
    "\n",
    "cpdef stp(double[:,::1] anew, double[:,::1] aold, Py_ssize_t by, Py_ssize_t bx) :\n",
    "    for i in range(1, bx+1) :\n",
    "        for j in range(1, by+1) :\n",
    "            anew[i,j] = 1/2*(aold[i,j] + 1/4*(aold[i-1,j] + aold[i+1,j] + aold[i,j-1] + aold[i,j+1]))"
   ]
  },
  {
   "cell_type": "markdown",
   "metadata": {},
   "source": [
    "### Cython setup file"
   ]
  },
  {
   "cell_type": "code",
   "execution_count": 10,
   "metadata": {},
   "outputs": [
    {
     "name": "stdout",
     "output_type": "stream",
     "text": [
      "Writing setup2.py\n"
     ]
    }
   ],
   "source": [
    "%%writefile setup2.py\n",
    "from setuptools import setup\n",
    "from Cython.Build import cythonize\n",
    "\n",
    "setup(\n",
    "    ext_modules = cythonize(\"scp2.pyx\", force=True)\n",
    ")"
   ]
  },
  {
   "cell_type": "markdown",
   "metadata": {},
   "source": [
    "### Build"
   ]
  },
  {
   "cell_type": "code",
   "execution_count": 11,
   "metadata": {},
   "outputs": [
    {
     "name": "stdout",
     "output_type": "stream",
     "text": [
      "[1/1] Cythonizing scp2.pyx\n",
      "running build_ext\n",
      "building 'scp2' extension\n",
      "gcc -pthread -B /scratch/app/anaconda3/2018.12/compiler_compat -Wl,--sysroot=/ -Wsign-compare -DNDEBUG -g -fwrapv -O3 -Wall -Wstrict-prototypes -fPIC -I/scratch/app/anaconda3/2018.12/include/python3.7m -c scp2.c -o build/temp.linux-x86_64-3.7/scp2.o\n",
      "gcc -pthread -shared -B /scratch/app/anaconda3/2018.12/compiler_compat -L/scratch/app/anaconda3/2018.12/lib -Wl,-rpath=/scratch/app/anaconda3/2018.12/lib -Wl,--no-as-needed -Wl,--sysroot=/ build/temp.linux-x86_64-3.7/scp2.o -o build/lib.linux-x86_64-3.7/scp2.cpython-37m-x86_64-linux-gnu.so\n",
      "copying build/lib.linux-x86_64-3.7/scp2.cpython-37m-x86_64-linux-gnu.so -> \n"
     ]
    },
    {
     "name": "stderr",
     "output_type": "stream",
     "text": [
      "rm: cannot remove ‘scp2.*.so’: No such file or directory\n"
     ]
    }
   ],
   "source": [
    "%%bash\n",
    "rm scp2.*.so\n",
    "python setup2.py build_ext --inplace"
   ]
  },
  {
   "cell_type": "markdown",
   "metadata": {},
   "source": [
    "### Check"
   ]
  },
  {
   "cell_type": "code",
   "execution_count": 12,
   "metadata": {},
   "outputs": [
    {
     "name": "stdout",
     "output_type": "stream",
     "text": [
      "None\n"
     ]
    }
   ],
   "source": [
    "import scp2\n",
    "print(scp2.stp.__doc__)"
   ]
  },
  {
   "cell_type": "markdown",
   "metadata": {},
   "source": [
    "### Main"
   ]
  },
  {
   "cell_type": "code",
   "execution_count": 20,
   "metadata": {},
   "outputs": [
    {
     "name": "stdout",
     "output_type": "stream",
     "text": [
      "Overwriting st-cy-par.py\n"
     ]
    }
   ],
   "source": [
    "%%writefile st-cy-par.py\n",
    "import numpy as np\n",
    "import time\n",
    "from mpi4py import MPI   \n",
    "import scp2\n",
    "\n",
    "\n",
    "n            = 4800    # nxn grid (4800,1,500)=1500; (100,1,10)=30\n",
    "energy       = 1.0     # energy to be injected per iteration\n",
    "niters       = 500     # number of iterations\n",
    "\n",
    "nsources     = 3       # sources of energy\n",
    "size         = n + 2\n",
    "heat         = np.zeros((1), np.float64)     # system total heat\n",
    "anew         = np.zeros((size, size), np.float64)\n",
    "aold         = np.zeros((size, size), np.float64)\n",
    "sources      = np.empty((3,2), np.int32)\n",
    "sources[:,:] = [ [n//2, n//2], [n//3, n//3], [n*4//5, n*8//9] ]\n",
    "niters       = (niters+1) // 2\n",
    "\n",
    "comm = MPI.COMM_WORLD\n",
    "mpirank = comm.rank\n",
    "mpisize = comm.size\n",
    "\n",
    "# cria e inicializa as fontes de calor\n",
    "nsources = 3\n",
    "sources = np.zeros((nsources, 2), np.intc)\n",
    "sources[:,:] = [ [n//2, n//2], [n//3, n//3], [n*4//5, n*8//9] ]\n",
    "\n",
    "# sources in my area, local to my rank\n",
    "locnsources = 0\n",
    "locsources = np.empty((nsources,2), np.intc)\n",
    "\n",
    "rheat = np.zeros(1, np.double)\n",
    "bheat = np.zeros(1, np.double)\n",
    "\n",
    "# determine my coordinates (x,y)\n",
    "pdims = MPI.Compute_dims(mpisize, 2)\n",
    "px    = pdims[0]\n",
    "py    = pdims[1]\n",
    "rx    = mpirank % px\n",
    "ry    = mpirank // px\n",
    "\n",
    "# determine my four neighbors\n",
    "north = (ry - 1) * px + rx\n",
    "if (ry - 1) < 0 :\n",
    "    north = MPI.PROC_NULL\n",
    "south = (ry + 1) * px + rx\n",
    "if (ry + 1) >= py :\n",
    "    south = MPI.PROC_NULL\n",
    "west = ry * px + rx - 1\n",
    "if (rx - 1) < 0 :\n",
    "    west = MPI.PROC_NULL\n",
    "east = ry * px + rx + 1\n",
    "if (rx + 1) >= px :\n",
    "    east = MPI.PROC_NULL\n",
    "\n",
    "# decompose the domain\n",
    "bx = n // px            # block size in x\n",
    "by = n // py            # block size in y\n",
    "offx = rx * bx + 1      # offset in x\n",
    "offy = ry * by + 1      # offset in y\n",
    "\n",
    "# determine which sources are in my patch\n",
    "for i in range(nsources) :\n",
    "    locx = sources[i, 0] - offx\n",
    "    locy = sources[i, 1] - offy\n",
    "    if(locx >= 0 and locx <= bx and locy >= 0 and locy <= by) :\n",
    "        locsources[locnsources, 0] = locx + 2 - 1\n",
    "        locsources[locnsources, 1] = locy + 2 - 1\n",
    "        locnsources += 1\n",
    "\n",
    "# working arrays with 1-wide halo zones\n",
    "anew = np.zeros((bx+2, by+2), np.double)\n",
    "aold = np.zeros((bx+2, by+2), np.double)\n",
    "\n",
    "if not mpirank : t0 = time.time()\n",
    "\n",
    "for iters in range(niters) :\n",
    "    # exchange data with neighbors\n",
    "    if north != MPI.PROC_NULL :\n",
    "        r1=comm.irecv(source=north, tag=1)\n",
    "        s1=comm.isend(aold[1, 1:bx+1], dest=north, tag=1)\n",
    "    if south != MPI.PROC_NULL :\n",
    "        r2=comm.irecv(source=south, tag=1)\n",
    "        s2=comm.isend(aold[bx, 1:bx+1], dest=south, tag=1)\n",
    "    if east != MPI.PROC_NULL :\n",
    "        r3 = comm.irecv(source=east, tag=1)\n",
    "        s3 = comm.isend(aold[1:bx+1, bx], dest=east, tag=1)\n",
    "    if west != MPI.PROC_NULL :\n",
    "        r4 = comm.irecv(source=west, tag=1)\n",
    "        s4 = comm.isend(aold[1:bx+1, 1], dest=west, tag=1)\n",
    "    # wait\n",
    "    if north != MPI.PROC_NULL :\n",
    "        s1.wait()\n",
    "        aold[0, 1:bx+1] = r1.wait()\n",
    "    if south != MPI.PROC_NULL :\n",
    "        s2.wait()\n",
    "        aold[bx+1, 1:bx+1] = r2.wait()\n",
    "    if east != MPI.PROC_NULL :\n",
    "        s3.wait()\n",
    "        aold[1:bx+1, bx+1] = r3.wait()\n",
    "    if west != MPI.PROC_NULL :\n",
    "        s4.wait\n",
    "        aold[1:bx+1, 0] = r4.wait()\n",
    "\n",
    "    # update grid\n",
    "    scp2.stp(anew, aold, bx, by)\n",
    "\n",
    "    # refresh heat sources\n",
    "    for i in range(locnsources) :\n",
    "        anew[locsources[i, 0]-1, locsources[i, 1]-1] += energy\n",
    "\n",
    "    # exchange data with neighbors\n",
    "    if north != MPI.PROC_NULL :\n",
    "        r1=comm.irecv(source=north, tag=1)\n",
    "        s1=comm.isend(anew[1, 1:bx+1], dest=north, tag=1)\n",
    "    if south != MPI.PROC_NULL :\n",
    "        r2=comm.irecv(source=south, tag=1)\n",
    "        s2=comm.isend(anew[bx, 1:bx+1], dest=south, tag=1)\n",
    "    if east != MPI.PROC_NULL :\n",
    "        r3 = comm.irecv(source=east, tag=1)\n",
    "        s3 = comm.isend(anew[1:bx+1, bx], dest=east, tag=1)\n",
    "    if west != MPI.PROC_NULL :\n",
    "        r4 = comm.irecv(source=west, tag=1)\n",
    "        s4 = comm.isend(anew[1:bx+1, 1], dest=west, tag=1)\n",
    "    # wait\n",
    "    if north != MPI.PROC_NULL :\n",
    "        s1.wait()\n",
    "        anew[0, 1:bx+1] = r1.wait()\n",
    "    if south != MPI.PROC_NULL :\n",
    "        s2.wait()\n",
    "        anew[bx+1, 1:bx+1] = r2.wait()\n",
    "    if east != MPI.PROC_NULL :\n",
    "        s3.wait()\n",
    "        anew[1:bx+1, bx+1] = r3.wait()\n",
    "    if west != MPI.PROC_NULL :\n",
    "        s4.wait\n",
    "        anew[1:bx+1, 0] = r4.wait()\n",
    "\n",
    "    # update grid\n",
    "    scp2.stp(aold, anew, bx, by)\n",
    "\n",
    "    # refresh heat sources\n",
    "    for i in range(locnsources) :\n",
    "        aold[locsources[i, 0]-1, locsources[i, 1]-1] += energy \n",
    "\n",
    "# get final heat in the system\n",
    "bheat[0] = np.sum(aold[1:-1, 1:-1])\n",
    "comm.Reduce(bheat, rheat)\n",
    "\n",
    "if not mpirank :\n",
    "    t1 = MPI.Wtime() - t0\n",
    "    print('Heat={:0.4f} | Tempo={:0.4f} | MPISize={:d} | Dim={:d},{:d} | bx,by={:d},{:d}'\n",
    "          .format(rheat[0], t1, mpisize, pdims[0], pdims[1], bx, by))"
   ]
  },
  {
   "cell_type": "markdown",
   "metadata": {},
   "source": [
    "### Slurm script"
   ]
  },
  {
   "cell_type": "code",
   "execution_count": 30,
   "metadata": {},
   "outputs": [
    {
     "name": "stdout",
     "output_type": "stream",
     "text": [
      "Overwriting st-cy-par_81.srm\n"
     ]
    }
   ],
   "source": [
    "%%writefile st-cy-par_81.srm\n",
    "#!/bin/bash\n",
    "# limites das filas (1,0 UA):\n",
    "#   cpu_dev  : 20 min.,  1-4  nós, 1/1   tarefas em exec/fila máximo\n",
    "#   cpu_small: 72 horas, 1-20 nós, 16/96 tarefas em exec/fila máximo\n",
    "# 1x1=1, 2x2=4, 3x3=9, 4x4=16, 6x6=36, 7x7=49, 8x8=64, 9x9=81\n",
    "\n",
    "#SBATCH --ntasks=81            #Total de tarefas\n",
    "#SBATCH -p cpu_small           #Fila (partition) a ser utilizada\n",
    "#SBATCH -J stcypar             #Nome do job, 8 caracteres\n",
    "#SBATCH --time=00:10:00        #Tempo max. de execução 5 minutos\n",
    "# #SBATCH --exclusive            #Utilização exclusiva dos nós\n",
    "# #SBATCH --nodes=1              #Qtd de nós\n",
    "# #SBATCH --ntasks-per-node=1    #Qtd de tarefas por nó ($SLURM_NTASKS_PER_NODE)\n",
    "\n",
    "echo '========================================'\n",
    "echo '- Job ID:' $SLURM_JOB_ID\n",
    "echo '- Tarefas por no:' $SLURM_NTASKS_PER_NODE\n",
    "echo '- Qtd. de nos:' $SLURM_JOB_NUM_NODES\n",
    "echo '- Tot. de tarefas:' $SLURM_NTASKS\n",
    "echo '- Nos alocados:' $SLURM_JOB_NODELIST\n",
    "echo '- diretorio onde sbatch foi chamado ($SLURM_SUBMIT_DIR):'\n",
    "echo $SLURM_SUBMIT_DIR\n",
    "cd $SLURM_SUBMIT_DIR\n",
    "nodeset -e $SLURM_JOB_NODELIST\n",
    "\n",
    "#Entra no diretório de trabalho\n",
    "cd /scratch/yyyy/xxxx/stnc/Cython\n",
    "\n",
    "#Modulos\n",
    "#module load mpi/mpich-x86_64\n",
    "module load anaconda3/2018.12\n",
    "\n",
    "#Executavel\n",
    "EXEC='python st-cy-par.py'\n",
    "\n",
    "#Dispara a execucao\n",
    "#=======================================#\n",
    "# ATENÇÃO! precisa do \"--mpi=pmi2\"      #\n",
    "#=======================================#\n",
    "echo '-- srun -------------------------------'\n",
    "echo '$ srun --mpi=pmi2 -n' $SLURM_NTASKS $EXEC\n",
    "srun --mpi=pmi2 -n $SLURM_NTASKS $EXEC\n",
    "echo '-- FIM --------------------------------'"
   ]
  },
  {
   "cell_type": "markdown",
   "metadata": {},
   "source": [
    "### Running on an execution node"
   ]
  },
  {
   "cell_type": "markdown",
   "metadata": {},
   "source": [
    "Copy the executable to /scratch"
   ]
  },
  {
   "cell_type": "code",
   "execution_count": 22,
   "metadata": {},
   "outputs": [],
   "source": [
    "%%bash\n",
    "s='/prj/yyyy/xxxx/stnc/Cython'\n",
    "d='/scratch/yyyy/xxxx/stnc/Cython'\n",
    "cp  $s/scp2.*.so  $s/st-cy-par.py  $d"
   ]
  },
  {
   "cell_type": "markdown",
   "metadata": {},
   "source": [
    "Checking if it works, before batch execution"
   ]
  },
  {
   "cell_type": "code",
   "execution_count": 23,
   "metadata": {},
   "outputs": [
    {
     "name": "stdout",
     "output_type": "stream",
     "text": [
      "Heat=1500.0000 | Tempo=6.3235 | MPISize=4 | Dim=2,2 | bx,by=2400,2400\n"
     ]
    }
   ],
   "source": [
    "%%bash\n",
    "d='/scratch/yyyy/xxxx/stnc/Cython'\n",
    "cd $d\n",
    "#module load mpi/mpich-x86_64\n",
    "module load anaconda3/2018.12\n",
    "mpiexec -n 4 python st-cy-par.py"
   ]
  },
  {
   "cell_type": "markdown",
   "metadata": {},
   "source": [
    "### Send to the execution"
   ]
  },
  {
   "cell_type": "code",
   "execution_count": 31,
   "metadata": {},
   "outputs": [
    {
     "name": "stdout",
     "output_type": "stream",
     "text": [
      "Submitted batch job 781875\n",
      "Submitted batch job 781876\n",
      "Submitted batch job 781877\n",
      "Submitted batch job 781878\n",
      "Submitted batch job 781879\n",
      "Submitted batch job 781880\n",
      "Submitted batch job 781881\n",
      "Submitted batch job 781882\n"
     ]
    }
   ],
   "source": [
    "%%bash\n",
    "# 1x1=1, 2x2=4, 3x3=9, 4x4=16, 6x6=36, 7x7=49, 8x8=64, 9x9=81\n",
    "sbatch st-cy-par_01.srm\n",
    "sbatch st-cy-par_04.srm\n",
    "sbatch st-cy-par_09.srm\n",
    "sbatch st-cy-par_16.srm\n",
    "sbatch st-cy-par_36.srm\n",
    "sbatch st-cy-par_49.srm\n",
    "sbatch st-cy-par_64.srm\n",
    "sbatch st-cy-par_81.srm"
   ]
  },
  {
   "cell_type": "code",
   "execution_count": 32,
   "metadata": {},
   "outputs": [
    {
     "name": "stdout",
     "output_type": "stream",
     "text": [
      "             JOBID PARTITION     NAME     USER ST       TIME  NODES NODELIST(REASON)\n",
      "            781875 cpu_small  stcypar xxxx. PD       0:00      1 (Priority)\n",
      "            781876 cpu_small  stcypar xxxx. PD       0:00      1 (Priority)\n",
      "            781877 cpu_small  stcypar xxxx. PD       0:00      1 (Priority)\n",
      "            781878 cpu_small  stcypar xxxx. PD       0:00      1 (Priority)\n",
      "            781879 cpu_small  stcypar xxxx. PD       0:00      2 (Priority)\n",
      "            781880 cpu_small  stcypar xxxx. PD       0:00      3 (Priority)\n",
      "            781881 cpu_small  stcypar xxxx. PD       0:00      3 (Priority)\n",
      "            781882 cpu_small  stcypar xxxx. PD       0:00      4 (Priority)\n"
     ]
    }
   ],
   "source": [
    "! squeue -n stcypar"
   ]
  },
  {
   "cell_type": "code",
   "execution_count": 39,
   "metadata": {},
   "outputs": [
    {
     "name": "stdout",
     "output_type": "stream",
     "text": [
      "             JOBID PARTITION     NAME     USER ST       TIME  NODES NODELIST(REASON)\n"
     ]
    }
   ],
   "source": [
    "! squeue -n stcypar"
   ]
  },
  {
   "cell_type": "markdown",
   "metadata": {},
   "source": [
    "#### Show the output files"
   ]
  },
  {
   "cell_type": "code",
   "execution_count": 40,
   "metadata": {},
   "outputs": [
    {
     "name": "stdout",
     "output_type": "stream",
     "text": [
      "========================================\n",
      "- Job ID: 781875\n",
      "- Tarefas por no:\n",
      "- Qtd. de nos: 1\n",
      "- Tot. de tarefas: 1\n",
      "- Nos alocados: sdumont1413\n",
      "- diretorio onde sbatch foi chamado ($SLURM_SUBMIT_DIR):\n",
      "/prj/yyyy/xxxx/stnc/Cython\n",
      "sdumont1413\n",
      "-- srun -------------------------------\n",
      "$ srun --mpi=pmi2 -n 1 python st-cy-par.py\n",
      "Heat=1500.0000 | Tempo=23.9610 | MPISize=1 | Dim=1,1 | bx,by=4800,4800\n",
      "-- FIM --------------------------------\n",
      "========================================\n",
      "- Job ID: 781876\n",
      "- Tarefas por no:\n",
      "- Qtd. de nos: 1\n",
      "- Tot. de tarefas: 4\n",
      "- Nos alocados: sdumont1454\n",
      "- diretorio onde sbatch foi chamado ($SLURM_SUBMIT_DIR):\n",
      "/prj/yyyy/xxxx/stnc/Cython\n",
      "sdumont1454\n",
      "-- srun -------------------------------\n",
      "$ srun --mpi=pmi2 -n 4 python st-cy-par.py\n",
      "Heat=1500.0000 | Tempo=7.5115 | MPISize=4 | Dim=2,2 | bx,by=2400,2400\n",
      "-- FIM --------------------------------\n",
      "========================================\n",
      "- Job ID: 781877\n",
      "- Tarefas por no:\n",
      "- Qtd. de nos: 1\n",
      "- Tot. de tarefas: 9\n",
      "- Nos alocados: sdumont1464\n",
      "- diretorio onde sbatch foi chamado ($SLURM_SUBMIT_DIR):\n",
      "/prj/yyyy/xxxx/stnc/Cython\n",
      "sdumont1464\n",
      "-- srun -------------------------------\n",
      "$ srun --mpi=pmi2 -n 9 python st-cy-par.py\n",
      "Heat=1500.0000 | Tempo=6.3059 | MPISize=9 | Dim=3,3 | bx,by=1600,1600\n",
      "-- FIM --------------------------------\n",
      "========================================\n",
      "- Job ID: 781878\n",
      "- Tarefas por no:\n",
      "- Qtd. de nos: 1\n",
      "- Tot. de tarefas: 16\n",
      "- Nos alocados: sdumont1454\n",
      "- diretorio onde sbatch foi chamado ($SLURM_SUBMIT_DIR):\n",
      "/prj/yyyy/xxxx/stnc/Cython\n",
      "sdumont1454\n",
      "-- srun -------------------------------\n",
      "$ srun --mpi=pmi2 -n 16 python st-cy-par.py\n",
      "Heat=1500.0000 | Tempo=4.7385 | MPISize=16 | Dim=4,4 | bx,by=1200,1200\n",
      "-- FIM --------------------------------\n",
      "========================================\n",
      "- Job ID: 781879\n",
      "- Tarefas por no:\n",
      "- Qtd. de nos: 2\n",
      "- Tot. de tarefas: 36\n",
      "- Nos alocados: sdumont[1413,1454]\n",
      "- diretorio onde sbatch foi chamado ($SLURM_SUBMIT_DIR):\n",
      "/prj/yyyy/xxxx/stnc/Cython\n",
      "sdumont1413 sdumont1454\n",
      "-- srun -------------------------------\n",
      "$ srun --mpi=pmi2 -n 36 python st-cy-par.py\n",
      "Heat=1500.0000 | Tempo=2.2369 | MPISize=36 | Dim=6,6 | bx,by=800,800\n",
      "-- FIM --------------------------------\n",
      "========================================\n",
      "- Job ID: 781880\n",
      "- Tarefas por no:\n",
      "- Qtd. de nos: 3\n",
      "- Tot. de tarefas: 49\n",
      "- Nos alocados: sdumont[1413,1454,1464]\n",
      "- diretorio onde sbatch foi chamado ($SLURM_SUBMIT_DIR):\n",
      "/prj/yyyy/xxxx/stnc/Cython\n",
      "sdumont1413 sdumont1454 sdumont1464\n",
      "-- srun -------------------------------\n",
      "$ srun --mpi=pmi2 -n 49 python st-cy-par.py\n",
      "Heat=1500.0000 | Tempo=1.7199 | MPISize=49 | Dim=7,7 | bx,by=685,685\n",
      "-- FIM --------------------------------\n",
      "========================================\n",
      "- Job ID: 781881\n",
      "- Tarefas por no:\n",
      "- Qtd. de nos: 3\n",
      "- Tot. de tarefas: 64\n",
      "- Nos alocados: sdumont[1413,1454,1464]\n",
      "- diretorio onde sbatch foi chamado ($SLURM_SUBMIT_DIR):\n",
      "/prj/yyyy/xxxx/stnc/Cython\n",
      "sdumont1413 sdumont1454 sdumont1464\n",
      "-- srun -------------------------------\n",
      "$ srun --mpi=pmi2 -n 64 python st-cy-par.py\n",
      "Heat=1500.0000 | Tempo=1.2929 | MPISize=64 | Dim=8,8 | bx,by=600,600\n",
      "-- FIM --------------------------------\n",
      "========================================\n",
      "- Job ID: 781882\n",
      "- Tarefas por no:\n",
      "- Qtd. de nos: 4\n",
      "- Tot. de tarefas: 81\n",
      "- Nos alocados: sdumont[1413,1422,1454,1464]\n",
      "- diretorio onde sbatch foi chamado ($SLURM_SUBMIT_DIR):\n",
      "/prj/yyyy/xxxx/stnc/Cython\n",
      "sdumont1413 sdumont1422 sdumont1454 sdumont1464\n",
      "-- srun -------------------------------\n",
      "$ srun --mpi=pmi2 -n 81 python st-cy-par.py\n",
      "Heat=1500.0000 | Tempo=2.1435 | MPISize=81 | Dim=9,9 | bx,by=533,533\n",
      "-- FIM --------------------------------\n"
     ]
    }
   ],
   "source": [
    "%%bash\n",
    "d='/scratch/yyyy/xxxx/stnc/Cython'\n",
    "cat $d/slurm-781875.out\n",
    "cat $d/slurm-781876.out\n",
    "cat $d/slurm-781877.out\n",
    "cat $d/slurm-781878.out\n",
    "cat $d/slurm-781879.out\n",
    "cat $d/slurm-781880.out\n",
    "cat $d/slurm-781881.out\n",
    "cat $d/slurm-781882.out"
   ]
  },
  {
   "cell_type": "markdown",
   "metadata": {},
   "source": [
    "### Second time measurement"
   ]
  },
  {
   "cell_type": "code",
   "execution_count": 2,
   "metadata": {},
   "outputs": [
    {
     "name": "stdout",
     "output_type": "stream",
     "text": [
      "47\n"
     ]
    }
   ],
   "source": [
    "! squeue -u xxxx | grep -c ^"
   ]
  },
  {
   "cell_type": "code",
   "execution_count": 3,
   "metadata": {},
   "outputs": [
    {
     "name": "stdout",
     "output_type": "stream",
     "text": [
      "Submitted batch job 788084\n",
      "Submitted batch job 788085\n",
      "Submitted batch job 788086\n",
      "Submitted batch job 788087\n",
      "Submitted batch job 788088\n",
      "Submitted batch job 788089\n",
      "Submitted batch job 788090\n",
      "Submitted batch job 788091\n"
     ]
    }
   ],
   "source": [
    "%%bash\n",
    "# 1x1=1, 2x2=4, 3x3=9, 4x4=16, 6x6=36, 7x7=49, 8x8=64, 9x9=81\n",
    "sbatch st-cy-par_01.srm\n",
    "sbatch st-cy-par_04.srm\n",
    "sbatch st-cy-par_09.srm\n",
    "sbatch st-cy-par_16.srm\n",
    "sbatch st-cy-par_36.srm\n",
    "sbatch st-cy-par_49.srm\n",
    "sbatch st-cy-par_64.srm\n",
    "sbatch st-cy-par_81.srm"
   ]
  },
  {
   "cell_type": "code",
   "execution_count": 4,
   "metadata": {},
   "outputs": [
    {
     "name": "stdout",
     "output_type": "stream",
     "text": [
      "             JOBID PARTITION     NAME     USER ST       TIME  NODES NODELIST(REASON)\n",
      "            788084 cpu_small  stcypar xxxx. PD       0:00      1 (Priority)\n",
      "            788085 cpu_small  stcypar xxxx. PD       0:00      1 (Priority)\n",
      "            788086 cpu_small  stcypar xxxx. PD       0:00      1 (Priority)\n",
      "            788087 cpu_small  stcypar xxxx. PD       0:00      1 (Priority)\n",
      "            788088 cpu_small  stcypar xxxx. PD       0:00      2 (Priority)\n",
      "            788089 cpu_small  stcypar xxxx. PD       0:00      3 (Priority)\n",
      "            788090 cpu_small  stcypar xxxx. PD       0:00      3 (Priority)\n",
      "            788091 cpu_small  stcypar xxxx. PD       0:00      4 (Priority)\n"
     ]
    }
   ],
   "source": [
    "! squeue -n stcypar"
   ]
  },
  {
   "cell_type": "code",
   "execution_count": 3,
   "metadata": {},
   "outputs": [
    {
     "name": "stdout",
     "output_type": "stream",
     "text": [
      "             JOBID PARTITION     NAME     USER ST       TIME  NODES NODELIST(REASON)\n"
     ]
    }
   ],
   "source": [
    "! squeue -n stcypar"
   ]
  },
  {
   "cell_type": "code",
   "execution_count": 4,
   "metadata": {},
   "outputs": [
    {
     "name": "stdout",
     "output_type": "stream",
     "text": [
      "========================================\n",
      "- Job ID: 788084\n",
      "- Tarefas por no:\n",
      "- Qtd. de nos: 1\n",
      "- Tot. de tarefas: 1\n",
      "- Nos alocados: sdumont1149\n",
      "- diretorio onde sbatch foi chamado ($SLURM_SUBMIT_DIR):\n",
      "/prj/yyyy/xxxx/stnc/Cython\n",
      "sdumont1149\n",
      "-- srun -------------------------------\n",
      "$ srun --mpi=pmi2 -n 1 python st-cy-par.py\n",
      "Heat=1500.0000 | Tempo=24.0083 | MPISize=1 | Dim=1,1 | bx,by=4800,4800\n",
      "-- FIM --------------------------------\n",
      "========================================\n",
      "- Job ID: 788085\n",
      "- Tarefas por no:\n",
      "- Qtd. de nos: 1\n",
      "- Tot. de tarefas: 4\n",
      "- Nos alocados: sdumont1149\n",
      "- diretorio onde sbatch foi chamado ($SLURM_SUBMIT_DIR):\n",
      "/prj/yyyy/xxxx/stnc/Cython\n",
      "sdumont1149\n",
      "-- srun -------------------------------\n",
      "$ srun --mpi=pmi2 -n 4 python st-cy-par.py\n",
      "Heat=1500.0000 | Tempo=7.4499 | MPISize=4 | Dim=2,2 | bx,by=2400,2400\n",
      "-- FIM --------------------------------\n",
      "========================================\n",
      "- Job ID: 788086\n",
      "- Tarefas por no:\n",
      "- Qtd. de nos: 1\n",
      "- Tot. de tarefas: 9\n",
      "- Nos alocados: sdumont1149\n",
      "- diretorio onde sbatch foi chamado ($SLURM_SUBMIT_DIR):\n",
      "/prj/yyyy/xxxx/stnc/Cython\n",
      "sdumont1149\n",
      "-- srun -------------------------------\n",
      "$ srun --mpi=pmi2 -n 9 python st-cy-par.py\n",
      "Heat=1500.0000 | Tempo=6.2924 | MPISize=9 | Dim=3,3 | bx,by=1600,1600\n",
      "-- FIM --------------------------------\n",
      "========================================\n",
      "- Job ID: 788087\n",
      "- Tarefas por no:\n",
      "- Qtd. de nos: 1\n",
      "- Tot. de tarefas: 16\n",
      "- Nos alocados: sdumont1149\n",
      "- diretorio onde sbatch foi chamado ($SLURM_SUBMIT_DIR):\n",
      "/prj/yyyy/xxxx/stnc/Cython\n",
      "sdumont1149\n",
      "-- srun -------------------------------\n",
      "$ srun --mpi=pmi2 -n 16 python st-cy-par.py\n",
      "Heat=1500.0000 | Tempo=4.7035 | MPISize=16 | Dim=4,4 | bx,by=1200,1200\n",
      "-- FIM --------------------------------\n",
      "========================================\n",
      "- Job ID: 788088\n",
      "- Tarefas por no:\n",
      "- Qtd. de nos: 2\n",
      "- Tot. de tarefas: 36\n",
      "- Nos alocados: sdumont[1083,1149]\n",
      "- diretorio onde sbatch foi chamado ($SLURM_SUBMIT_DIR):\n",
      "/prj/yyyy/xxxx/stnc/Cython\n",
      "sdumont1083 sdumont1149\n",
      "-- srun -------------------------------\n",
      "$ srun --mpi=pmi2 -n 36 python st-cy-par.py\n",
      "Heat=1500.0000 | Tempo=2.2264 | MPISize=36 | Dim=6,6 | bx,by=800,800\n",
      "-- FIM --------------------------------\n",
      "========================================\n",
      "- Job ID: 788089\n",
      "- Tarefas por no:\n",
      "- Qtd. de nos: 3\n",
      "- Tot. de tarefas: 49\n",
      "- Nos alocados: sdumont[1083,1149,1272]\n",
      "- diretorio onde sbatch foi chamado ($SLURM_SUBMIT_DIR):\n",
      "/prj/yyyy/xxxx/stnc/Cython\n",
      "sdumont1083 sdumont1149 sdumont1272\n",
      "-- srun -------------------------------\n",
      "$ srun --mpi=pmi2 -n 49 python st-cy-par.py\n",
      "Heat=1500.0000 | Tempo=1.6395 | MPISize=49 | Dim=7,7 | bx,by=685,685\n",
      "-- FIM --------------------------------\n",
      "========================================\n",
      "- Job ID: 788090\n",
      "- Tarefas por no:\n",
      "- Qtd. de nos: 3\n",
      "- Tot. de tarefas: 64\n",
      "- Nos alocados: sdumont[1083,1149,1272]\n",
      "- diretorio onde sbatch foi chamado ($SLURM_SUBMIT_DIR):\n",
      "/prj/yyyy/xxxx/stnc/Cython\n",
      "sdumont1083 sdumont1149 sdumont1272\n",
      "-- srun -------------------------------\n",
      "$ srun --mpi=pmi2 -n 64 python st-cy-par.py\n",
      "Heat=1500.0000 | Tempo=1.3445 | MPISize=64 | Dim=8,8 | bx,by=600,600\n",
      "-- FIM --------------------------------\n",
      "========================================\n",
      "- Job ID: 788091\n",
      "- Tarefas por no:\n",
      "- Qtd. de nos: 4\n",
      "- Tot. de tarefas: 81\n",
      "- Nos alocados: sdumont[1083,1149,1272,1391]\n",
      "- diretorio onde sbatch foi chamado ($SLURM_SUBMIT_DIR):\n",
      "/prj/yyyy/xxxx/stnc/Cython\n",
      "sdumont1083 sdumont1149 sdumont1272 sdumont1391\n",
      "-- srun -------------------------------\n",
      "$ srun --mpi=pmi2 -n 81 python st-cy-par.py\n",
      "Heat=1500.0000 | Tempo=2.0138 | MPISize=81 | Dim=9,9 | bx,by=533,533\n",
      "-- FIM --------------------------------\n"
     ]
    }
   ],
   "source": [
    "%%bash\n",
    "d='/scratch/yyyy/xxxx/stnc/Cython'\n",
    "cat $d/slurm-788084.out\n",
    "cat $d/slurm-788085.out\n",
    "cat $d/slurm-788086.out\n",
    "cat $d/slurm-788087.out\n",
    "cat $d/slurm-788088.out\n",
    "cat $d/slurm-788089.out\n",
    "cat $d/slurm-788090.out\n",
    "cat $d/slurm-788091.out"
   ]
  },
  {
   "cell_type": "markdown",
   "metadata": {},
   "source": [
    "### Third time measurement"
   ]
  },
  {
   "cell_type": "code",
   "execution_count": 5,
   "metadata": {},
   "outputs": [
    {
     "name": "stdout",
     "output_type": "stream",
     "text": [
      "55\n"
     ]
    }
   ],
   "source": [
    "! squeue -u xxxx | grep -c ^"
   ]
  },
  {
   "cell_type": "code",
   "execution_count": 6,
   "metadata": {},
   "outputs": [
    {
     "name": "stdout",
     "output_type": "stream",
     "text": [
      "Submitted batch job 788094\n",
      "Submitted batch job 788095\n",
      "Submitted batch job 788096\n",
      "Submitted batch job 788097\n",
      "Submitted batch job 788098\n",
      "Submitted batch job 788099\n",
      "Submitted batch job 788100\n",
      "Submitted batch job 788101\n"
     ]
    }
   ],
   "source": [
    "%%bash\n",
    "# 1x1=1, 2x2=4, 3x3=9, 4x4=16, 6x6=36, 7x7=49, 8x8=64, 9x9=81\n",
    "sbatch st-cy-par_01.srm\n",
    "sbatch st-cy-par_04.srm\n",
    "sbatch st-cy-par_09.srm\n",
    "sbatch st-cy-par_16.srm\n",
    "sbatch st-cy-par_36.srm\n",
    "sbatch st-cy-par_49.srm\n",
    "sbatch st-cy-par_64.srm\n",
    "sbatch st-cy-par_81.srm"
   ]
  },
  {
   "cell_type": "code",
   "execution_count": 7,
   "metadata": {},
   "outputs": [
    {
     "name": "stdout",
     "output_type": "stream",
     "text": [
      "             JOBID PARTITION     NAME     USER ST       TIME  NODES NODELIST(REASON)\n",
      "            788091 cpu_small  stcypar xxxx. PD       0:00      4 (Resources)\n",
      "            788089 cpu_small  stcypar xxxx. PD       0:00      3 (Resources)\n",
      "            788090 cpu_small  stcypar xxxx. PD       0:00      3 (Resources)\n",
      "            788084 cpu_small  stcypar xxxx. PD       0:00      1 (Resources)\n",
      "            788085 cpu_small  stcypar xxxx. PD       0:00      1 (Resources)\n",
      "            788086 cpu_small  stcypar xxxx. PD       0:00      1 (Resources)\n",
      "            788087 cpu_small  stcypar xxxx. PD       0:00      1 (Resources)\n",
      "            788088 cpu_small  stcypar xxxx. PD       0:00      2 (Resources)\n",
      "            788094 cpu_small  stcypar xxxx. PD       0:00      1 (Priority)\n",
      "            788095 cpu_small  stcypar xxxx. PD       0:00      1 (Priority)\n",
      "            788096 cpu_small  stcypar xxxx. PD       0:00      1 (Priority)\n",
      "            788097 cpu_small  stcypar xxxx. PD       0:00      1 (Priority)\n",
      "            788098 cpu_small  stcypar xxxx. PD       0:00      2 (Priority)\n",
      "            788099 cpu_small  stcypar xxxx. PD       0:00      3 (Priority)\n",
      "            788100 cpu_small  stcypar xxxx. PD       0:00      3 (Priority)\n",
      "            788101 cpu_small  stcypar xxxx. PD       0:00      4 (Priority)\n"
     ]
    }
   ],
   "source": [
    "! squeue -n stcypar"
   ]
  },
  {
   "cell_type": "code",
   "execution_count": 1,
   "metadata": {},
   "outputs": [
    {
     "name": "stdout",
     "output_type": "stream",
     "text": [
      "             JOBID PARTITION     NAME     USER ST       TIME  NODES NODELIST(REASON)\n"
     ]
    }
   ],
   "source": [
    "! squeue -n stcypar"
   ]
  },
  {
   "cell_type": "code",
   "execution_count": 2,
   "metadata": {},
   "outputs": [
    {
     "name": "stdout",
     "output_type": "stream",
     "text": [
      "========================================\n",
      "- Job ID: 788094\n",
      "- Tarefas por no:\n",
      "- Qtd. de nos: 1\n",
      "- Tot. de tarefas: 1\n",
      "- Nos alocados: sdumont1149\n",
      "- diretorio onde sbatch foi chamado ($SLURM_SUBMIT_DIR):\n",
      "/prj/yyyy/xxxx/stnc/Cython\n",
      "sdumont1149\n",
      "-- srun -------------------------------\n",
      "$ srun --mpi=pmi2 -n 1 python st-cy-par.py\n",
      "Heat=1500.0000 | Tempo=23.9768 | MPISize=1 | Dim=1,1 | bx,by=4800,4800\n",
      "-- FIM --------------------------------\n",
      "========================================\n",
      "- Job ID: 788095\n",
      "- Tarefas por no:\n",
      "- Qtd. de nos: 1\n",
      "- Tot. de tarefas: 4\n",
      "- Nos alocados: sdumont1149\n",
      "- diretorio onde sbatch foi chamado ($SLURM_SUBMIT_DIR):\n",
      "/prj/yyyy/xxxx/stnc/Cython\n",
      "sdumont1149\n",
      "-- srun -------------------------------\n",
      "$ srun --mpi=pmi2 -n 4 python st-cy-par.py\n",
      "Heat=1500.0000 | Tempo=7.4049 | MPISize=4 | Dim=2,2 | bx,by=2400,2400\n",
      "-- FIM --------------------------------\n",
      "========================================\n",
      "- Job ID: 788096\n",
      "- Tarefas por no:\n",
      "- Qtd. de nos: 1\n",
      "- Tot. de tarefas: 9\n",
      "- Nos alocados: sdumont1149\n",
      "- diretorio onde sbatch foi chamado ($SLURM_SUBMIT_DIR):\n",
      "/prj/yyyy/xxxx/stnc/Cython\n",
      "sdumont1149\n",
      "-- srun -------------------------------\n",
      "$ srun --mpi=pmi2 -n 9 python st-cy-par.py\n",
      "Heat=1500.0000 | Tempo=6.2705 | MPISize=9 | Dim=3,3 | bx,by=1600,1600\n",
      "-- FIM --------------------------------\n",
      "========================================\n",
      "- Job ID: 788097\n",
      "- Tarefas por no:\n",
      "- Qtd. de nos: 1\n",
      "- Tot. de tarefas: 16\n",
      "- Nos alocados: sdumont1149\n",
      "- diretorio onde sbatch foi chamado ($SLURM_SUBMIT_DIR):\n",
      "/prj/yyyy/xxxx/stnc/Cython\n",
      "sdumont1149\n",
      "-- srun -------------------------------\n",
      "$ srun --mpi=pmi2 -n 16 python st-cy-par.py\n",
      "Heat=1500.0000 | Tempo=4.6420 | MPISize=16 | Dim=4,4 | bx,by=1200,1200\n",
      "-- FIM --------------------------------\n",
      "========================================\n",
      "- Job ID: 788098\n",
      "- Tarefas por no:\n",
      "- Qtd. de nos: 2\n",
      "- Tot. de tarefas: 36\n",
      "- Nos alocados: sdumont[1083,1149]\n",
      "- diretorio onde sbatch foi chamado ($SLURM_SUBMIT_DIR):\n",
      "/prj/yyyy/xxxx/stnc/Cython\n",
      "sdumont1083 sdumont1149\n",
      "-- srun -------------------------------\n",
      "$ srun --mpi=pmi2 -n 36 python st-cy-par.py\n",
      "Heat=1500.0000 | Tempo=2.2180 | MPISize=36 | Dim=6,6 | bx,by=800,800\n",
      "-- FIM --------------------------------\n",
      "========================================\n",
      "- Job ID: 788099\n",
      "- Tarefas por no:\n",
      "- Qtd. de nos: 3\n",
      "- Tot. de tarefas: 49\n",
      "- Nos alocados: sdumont[1083,1149,1272]\n",
      "- diretorio onde sbatch foi chamado ($SLURM_SUBMIT_DIR):\n",
      "/prj/yyyy/xxxx/stnc/Cython\n",
      "sdumont1083 sdumont1149 sdumont1272\n",
      "-- srun -------------------------------\n",
      "$ srun --mpi=pmi2 -n 49 python st-cy-par.py\n",
      "Heat=1500.0000 | Tempo=1.6396 | MPISize=49 | Dim=7,7 | bx,by=685,685\n",
      "-- FIM --------------------------------\n",
      "========================================\n",
      "- Job ID: 788100\n",
      "- Tarefas por no:\n",
      "- Qtd. de nos: 3\n",
      "- Tot. de tarefas: 64\n",
      "- Nos alocados: sdumont[1083,1149,1272]\n",
      "- diretorio onde sbatch foi chamado ($SLURM_SUBMIT_DIR):\n",
      "/prj/yyyy/xxxx/stnc/Cython\n",
      "sdumont1083 sdumont1149 sdumont1272\n",
      "-- srun -------------------------------\n",
      "$ srun --mpi=pmi2 -n 64 python st-cy-par.py\n",
      "Heat=1500.0000 | Tempo=1.2801 | MPISize=64 | Dim=8,8 | bx,by=600,600\n",
      "-- FIM --------------------------------\n",
      "========================================\n",
      "- Job ID: 788101\n",
      "- Tarefas por no:\n",
      "- Qtd. de nos: 4\n",
      "- Tot. de tarefas: 81\n",
      "- Nos alocados: sdumont[1083,1149,1272,1391]\n",
      "- diretorio onde sbatch foi chamado ($SLURM_SUBMIT_DIR):\n",
      "/prj/yyyy/xxxx/stnc/Cython\n",
      "sdumont1083 sdumont1149 sdumont1272 sdumont1391\n",
      "-- srun -------------------------------\n",
      "$ srun --mpi=pmi2 -n 81 python st-cy-par.py\n",
      "Heat=1500.0000 | Tempo=2.0131 | MPISize=81 | Dim=9,9 | bx,by=533,533\n",
      "-- FIM --------------------------------\n"
     ]
    }
   ],
   "source": [
    "%%bash\n",
    "d='/scratch/yyyy/xxxx/stnc/Cython'\n",
    "cat $d/slurm-788094.out\n",
    "cat $d/slurm-788095.out\n",
    "cat $d/slurm-788096.out\n",
    "cat $d/slurm-788097.out\n",
    "cat $d/slurm-788098.out\n",
    "cat $d/slurm-788099.out\n",
    "cat $d/slurm-788100.out\n",
    "cat $d/slurm-788101.out"
   ]
  }
 ],
 "metadata": {
  "kernelspec": {
   "display_name": "Python 3",
   "language": "python",
   "name": "python3"
  },
  "language_info": {
   "codemirror_mode": {
    "name": "ipython",
    "version": 3
   },
   "file_extension": ".py",
   "mimetype": "text/x-python",
   "name": "python",
   "nbconvert_exporter": "python",
   "pygments_lexer": "ipython3",
   "version": "3.8.5"
  }
 },
 "nbformat": 4,
 "nbformat_minor": 4
}
